{
  "nbformat": 4,
  "nbformat_minor": 0,
  "metadata": {
    "colab": {
      "name": "main.ipynb",
      "provenance": [],
      "collapsed_sections": []
    },
    "kernelspec": {
      "name": "python3",
      "display_name": "Python 3"
    }
  },
  "cells": [
    {
      "cell_type": "code",
      "metadata": {
        "id": "SZ1MLPpf4QdO"
      },
      "source": [
        "import pandas as pd\n",
        "import matplotlib.pyplot as plt\n",
        "import numpy as np"
      ],
      "execution_count": 17,
      "outputs": []
    },
    {
      "cell_type": "code",
      "metadata": {
        "id": "2a0_s-CI5W7u",
        "colab": {
          "base_uri": "https://localhost:8080/",
          "height": 167
        },
        "outputId": "8e1b8788-6888-49a3-d65a-fdc19f353b75"
      },
      "source": [
        "df1 = pd.read_csv('graph1.csv')\n",
        "df1"
      ],
      "execution_count": 18,
      "outputs": [
        {
          "output_type": "execute_result",
          "data": {
            "text/html": [
              "<div>\n",
              "<style scoped>\n",
              "    .dataframe tbody tr th:only-of-type {\n",
              "        vertical-align: middle;\n",
              "    }\n",
              "\n",
              "    .dataframe tbody tr th {\n",
              "        vertical-align: top;\n",
              "    }\n",
              "\n",
              "    .dataframe thead th {\n",
              "        text-align: right;\n",
              "    }\n",
              "</style>\n",
              "<table border=\"1\" class=\"dataframe\">\n",
              "  <thead>\n",
              "    <tr style=\"text-align: right;\">\n",
              "      <th></th>\n",
              "      <th>n = 1</th>\n",
              "      <th>n = 51</th>\n",
              "      <th>n = 101</th>\n",
              "      <th>n = 151</th>\n",
              "      <th>n = 201</th>\n",
              "      <th>n = 251</th>\n",
              "      <th>n = 301</th>\n",
              "      <th>n = 351</th>\n",
              "      <th>n = 401</th>\n",
              "      <th>n = 451</th>\n",
              "      <th>n = 501</th>\n",
              "      <th>n = 551</th>\n",
              "      <th>n = 601</th>\n",
              "      <th>n = 651</th>\n",
              "      <th>n = 701</th>\n",
              "      <th>n = 751</th>\n",
              "      <th>n = 801</th>\n",
              "    </tr>\n",
              "  </thead>\n",
              "  <tbody>\n",
              "    <tr>\n",
              "      <th>0</th>\n",
              "      <td>0</td>\n",
              "      <td>3610</td>\n",
              "      <td>43790</td>\n",
              "      <td>171485</td>\n",
              "      <td>497823</td>\n",
              "      <td>1060809</td>\n",
              "      <td>2312374</td>\n",
              "      <td>4073824</td>\n",
              "      <td>9605250</td>\n",
              "      <td>18403341</td>\n",
              "      <td>34528358</td>\n",
              "      <td>49419095</td>\n",
              "      <td>65647058</td>\n",
              "      <td>84661406</td>\n",
              "      <td>108974664</td>\n",
              "      <td>134228371</td>\n",
              "      <td>166419389</td>\n",
              "    </tr>\n",
              "    <tr>\n",
              "      <th>1</th>\n",
              "      <td>0</td>\n",
              "      <td>1131</td>\n",
              "      <td>6656</td>\n",
              "      <td>22178</td>\n",
              "      <td>57592</td>\n",
              "      <td>105812</td>\n",
              "      <td>183097</td>\n",
              "      <td>286607</td>\n",
              "      <td>427571</td>\n",
              "      <td>595274</td>\n",
              "      <td>814311</td>\n",
              "      <td>1105846</td>\n",
              "      <td>1432665</td>\n",
              "      <td>1877427</td>\n",
              "      <td>2294645</td>\n",
              "      <td>2843788</td>\n",
              "      <td>3983704</td>\n",
              "    </tr>\n",
              "  </tbody>\n",
              "</table>\n",
              "</div>"
            ],
            "text/plain": [
              "   n = 1  n = 51  n = 101  n = 151  ...   n = 651    n = 701    n = 751    n = 801\n",
              "0      0    3610    43790   171485  ...  84661406  108974664  134228371  166419389\n",
              "1      0    1131     6656    22178  ...   1877427    2294645    2843788    3983704\n",
              "\n",
              "[2 rows x 17 columns]"
            ]
          },
          "metadata": {
            "tags": []
          },
          "execution_count": 18
        }
      ]
    },
    {
      "cell_type": "code",
      "metadata": {
        "id": "A-z8aTCrRH7J",
        "colab": {
          "base_uri": "https://localhost:8080/",
          "height": 167
        },
        "outputId": "478e0354-16b3-482a-ed53-f1f793b948ab"
      },
      "source": [
        "df1.loc[0] = df1.loc[0]/1000000\n",
        "df1.loc[1] = df1.loc[1]/1000000\n",
        "df1"
      ],
      "execution_count": 19,
      "outputs": [
        {
          "output_type": "execute_result",
          "data": {
            "text/html": [
              "<div>\n",
              "<style scoped>\n",
              "    .dataframe tbody tr th:only-of-type {\n",
              "        vertical-align: middle;\n",
              "    }\n",
              "\n",
              "    .dataframe tbody tr th {\n",
              "        vertical-align: top;\n",
              "    }\n",
              "\n",
              "    .dataframe thead th {\n",
              "        text-align: right;\n",
              "    }\n",
              "</style>\n",
              "<table border=\"1\" class=\"dataframe\">\n",
              "  <thead>\n",
              "    <tr style=\"text-align: right;\">\n",
              "      <th></th>\n",
              "      <th>n = 1</th>\n",
              "      <th>n = 51</th>\n",
              "      <th>n = 101</th>\n",
              "      <th>n = 151</th>\n",
              "      <th>n = 201</th>\n",
              "      <th>n = 251</th>\n",
              "      <th>n = 301</th>\n",
              "      <th>n = 351</th>\n",
              "      <th>n = 401</th>\n",
              "      <th>n = 451</th>\n",
              "      <th>n = 501</th>\n",
              "      <th>n = 551</th>\n",
              "      <th>n = 601</th>\n",
              "      <th>n = 651</th>\n",
              "      <th>n = 701</th>\n",
              "      <th>n = 751</th>\n",
              "      <th>n = 801</th>\n",
              "    </tr>\n",
              "  </thead>\n",
              "  <tbody>\n",
              "    <tr>\n",
              "      <th>0</th>\n",
              "      <td>0.0</td>\n",
              "      <td>0.003610</td>\n",
              "      <td>0.043790</td>\n",
              "      <td>0.171485</td>\n",
              "      <td>0.497823</td>\n",
              "      <td>1.060809</td>\n",
              "      <td>2.312374</td>\n",
              "      <td>4.073824</td>\n",
              "      <td>9.605250</td>\n",
              "      <td>18.403341</td>\n",
              "      <td>34.528358</td>\n",
              "      <td>49.419095</td>\n",
              "      <td>65.647058</td>\n",
              "      <td>84.661406</td>\n",
              "      <td>108.974664</td>\n",
              "      <td>134.228371</td>\n",
              "      <td>166.419389</td>\n",
              "    </tr>\n",
              "    <tr>\n",
              "      <th>1</th>\n",
              "      <td>0.0</td>\n",
              "      <td>0.001131</td>\n",
              "      <td>0.006656</td>\n",
              "      <td>0.022178</td>\n",
              "      <td>0.057592</td>\n",
              "      <td>0.105812</td>\n",
              "      <td>0.183097</td>\n",
              "      <td>0.286607</td>\n",
              "      <td>0.427571</td>\n",
              "      <td>0.595274</td>\n",
              "      <td>0.814311</td>\n",
              "      <td>1.105846</td>\n",
              "      <td>1.432665</td>\n",
              "      <td>1.877427</td>\n",
              "      <td>2.294645</td>\n",
              "      <td>2.843788</td>\n",
              "      <td>3.983704</td>\n",
              "    </tr>\n",
              "  </tbody>\n",
              "</table>\n",
              "</div>"
            ],
            "text/plain": [
              "   n = 1    n = 51   n = 101  ...     n = 701     n = 751     n = 801\n",
              "0    0.0  0.003610  0.043790  ...  108.974664  134.228371  166.419389\n",
              "1    0.0  0.001131  0.006656  ...    2.294645    2.843788    3.983704\n",
              "\n",
              "[2 rows x 17 columns]"
            ]
          },
          "metadata": {
            "tags": []
          },
          "execution_count": 19
        }
      ]
    },
    {
      "cell_type": "code",
      "metadata": {
        "id": "PFv1V6nB101b",
        "colab": {
          "base_uri": "https://localhost:8080/",
          "height": 621
        },
        "outputId": "2dab4167-f624-4d9c-bd6c-928c67be4bf6"
      },
      "source": [
        "plt.figure(figsize=(20,10))\n",
        "row1 = df1.iloc[0]\n",
        "row1.plot(label = 'Non-optimized version', kind='line', )\n",
        "row2 = df1.iloc[1]\n",
        "row2.plot(label = 'Optimized version', kind='line')\n",
        "plt.ylabel('Time (seconds)')\n",
        "plt.xlabel('N size')\n",
        "plt.title(\"Minimizing Cache Misses\")\n",
        "plt.legend(loc='best')\n",
        "#plt.axis([1, 6, 0, 1])\n",
        "plt.show()"
      ],
      "execution_count": 20,
      "outputs": [
        {
          "output_type": "display_data",
          "data": {
            "image/png": "[encoded data removed]",
            "text/plain": [
              "<Figure size 1440x720 with 1 Axes>"
            ]
          },
          "metadata": {
            "tags": [],
            "needs_background": "light"
          }
        }
      ]
    }
  ]
}