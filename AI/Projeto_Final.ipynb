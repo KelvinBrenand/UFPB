{
  "nbformat": 4,
  "nbformat_minor": 0,
  "metadata": {
    "colab": {
      "name": "Projeto_Final-Thais_Senpai",
      "provenance": [],
      "collapsed_sections": [
        "O8zqQR_mm43a",
        "0S7mq1HinZIv",
        "doAJVsoDoC1X",
        "AJLnuFRfvQ2H"
      ]
    },
    "kernelspec": {
      "name": "python3",
      "display_name": "Python 3"
    },
    "language_info": {
      "name": "python"
    }
  },
  "cells": [
    {
      "cell_type": "markdown",
      "source": [
        "# Projeto Final - IA\n",
        "### Kelvin Brenand - 20180005270"
      ],
      "metadata": {
        "id": "5TcIBfl1m_XB"
      }
    },
    {
      "cell_type": "markdown",
      "source": [
        "### Motivação: Promover a disseminação da música erudita no Brasil\n",
        "\n",
        "### Objetivo: Dado um conjunto de características de uma música, recomendar o compositor que apresenta as características mais similares.\n",
        "\n",
        "#### O modelo aprende essas características e faz recomendações com base nesse aprendizado."
      ],
      "metadata": {
        "id": "ivPEstKhaAz8"
      }
    },
    {
      "cell_type": "markdown",
      "source": [
        "# Imports and Utils"
      ],
      "metadata": {
        "id": "O8zqQR_mm43a"
      }
    },
    {
      "cell_type": "code",
      "source": [
        "import pandas as pd\n",
        "import numpy as np\n",
        "from matplotlib import pyplot as plt\n",
        "import seaborn as sns\n",
        "from sklearn.preprocessing import LabelEncoder, StandardScaler\n",
        "from sklearn.decomposition import PCA\n",
        "from sklearn.model_selection import train_test_split\n",
        "from sklearn.ensemble import RandomForestClassifier\n",
        "from imblearn.over_sampling import RandomOverSampler\n",
        "from imblearn.under_sampling import RandomUnderSampler\n",
        "import sklearn.metrics\n",
        "import warnings\n",
        "warnings.filterwarnings('ignore')"
      ],
      "metadata": {
        "id": "S2y-wVLznEVk"
      },
      "execution_count": null,
      "outputs": []
    },
    {
      "cell_type": "code",
      "source": [
        "#Base de dados original: https://www.kaggle.com/datasets/vicsuperman/prediction-of-music-genre\n",
        "\n",
        "df = pd.read_csv(\"https://drive.google.com/uc?export=download&id=1hJ1WiE-o8cvBIEb57uInjKNDvvquRZXk\")\n",
        "dfClassic = pd.read_csv(\"https://drive.google.com/uc?export=download&id=1O9NpXOr-GRn8SWnY-1aFIUE7WIyjTSHu\")"
      ],
      "metadata": {
        "id": "YidqOol4YK55"
      },
      "execution_count": null,
      "outputs": []
    },
    {
      "cell_type": "code",
      "source": [
        "def Label_enc(param):\n",
        "    LabelE = LabelEncoder()\n",
        "    LabelE.fit(param)\n",
        "    return LabelE.transform(param)"
      ],
      "metadata": {
        "id": "GhXzN7zGy4ur"
      },
      "execution_count": null,
      "outputs": []
    },
    {
      "cell_type": "markdown",
      "source": [
        "# Data Preprocessing and Exploratory Data Analysis"
      ],
      "metadata": {
        "id": "0S7mq1HinZIv"
      }
    },
    {
      "cell_type": "code",
      "source": [
        "df.info()"
      ],
      "metadata": {
        "colab": {
          "base_uri": "https://localhost:8080/"
        },
        "id": "ZCyusYGXoD-4",
        "outputId": "0f4b5b23-2ef1-4dae-caad-ed48b64aece9"
      },
      "execution_count": null,
      "outputs": [
        {
          "output_type": "stream",
          "name": "stdout",
          "text": [
            "<class 'pandas.core.frame.DataFrame'>\n",
            "RangeIndex: 50005 entries, 0 to 50004\n",
            "Data columns (total 18 columns):\n",
            " #   Column            Non-Null Count  Dtype  \n",
            "---  ------            --------------  -----  \n",
            " 0   instance_id       50000 non-null  float64\n",
            " 1   artist_name       50000 non-null  object \n",
            " 2   track_name        50000 non-null  object \n",
            " 3   popularity        50000 non-null  float64\n",
            " 4   acousticness      50000 non-null  float64\n",
            " 5   danceability      50000 non-null  float64\n",
            " 6   duration_ms       50000 non-null  float64\n",
            " 7   energy            50000 non-null  float64\n",
            " 8   instrumentalness  50000 non-null  float64\n",
            " 9   key               50000 non-null  object \n",
            " 10  liveness          50000 non-null  float64\n",
            " 11  loudness          50000 non-null  float64\n",
            " 12  mode              50000 non-null  object \n",
            " 13  speechiness       50000 non-null  float64\n",
            " 14  tempo             50000 non-null  object \n",
            " 15  obtained_date     50000 non-null  object \n",
            " 16  valence           50000 non-null  float64\n",
            " 17  music_genre       50000 non-null  object \n",
            "dtypes: float64(11), object(7)\n",
            "memory usage: 6.9+ MB\n"
          ]
        }
      ]
    },
    {
      "cell_type": "code",
      "source": [
        "df.head(5)"
      ],
      "metadata": {
        "colab": {
          "base_uri": "https://localhost:8080/"
        },
        "id": "5U0cAHn6oFG1",
        "outputId": "e2b3ab71-ee81-4170-f4a6-3a267593bb5b"
      },
      "execution_count": null,
      "outputs": [
        {
          "output_type": "execute_result",
          "data": {
            "text/plain": [
              "   instance_id           artist_name            track_name  popularity  \\\n",
              "0      32894.0              Röyksopp  Röyksopp's Night Out        27.0   \n",
              "1      46652.0  Thievery Corporation      The Shining Path        31.0   \n",
              "2      30097.0        Dillon Francis             Hurricane        28.0   \n",
              "3      62177.0              Dubloadz                 Nitro        34.0   \n",
              "4      24907.0           What So Not      Divide & Conquer        32.0   \n",
              "\n",
              "   acousticness  danceability  duration_ms  energy  instrumentalness key  \\\n",
              "0       0.00468         0.652         -1.0   0.941           0.79200  A#   \n",
              "1       0.01270         0.622     218293.0   0.890           0.95000   D   \n",
              "2       0.00306         0.620     215613.0   0.755           0.01180  G#   \n",
              "3       0.02540         0.774     166875.0   0.700           0.00253  C#   \n",
              "4       0.00465         0.638     222369.0   0.587           0.90900  F#   \n",
              "\n",
              "   liveness  loudness   mode  speechiness               tempo obtained_date  \\\n",
              "0     0.115    -5.201  Minor       0.0748             100.889         4-Apr   \n",
              "1     0.124    -7.043  Minor       0.0300  115.00200000000001         4-Apr   \n",
              "2     0.534    -4.617  Major       0.0345             127.994         4-Apr   \n",
              "3     0.157    -4.498  Major       0.2390             128.014         4-Apr   \n",
              "4     0.157    -6.266  Major       0.0413             145.036         4-Apr   \n",
              "\n",
              "   valence music_genre  \n",
              "0    0.759  Electronic  \n",
              "1    0.531  Electronic  \n",
              "2    0.333  Electronic  \n",
              "3    0.270  Electronic  \n",
              "4    0.323  Electronic  "
            ],
            "text/html": [
              "\n",
              "  <div id=\"df-10298ce4-6de2-486e-90be-5a47c799706e\">\n",
              "    <div class=\"colab-df-container\">\n",
              "      <div>\n",
              "<style scoped>\n",
              "    .dataframe tbody tr th:only-of-type {\n",
              "        vertical-align: middle;\n",
              "    }\n",
              "\n",
              "    .dataframe tbody tr th {\n",
              "        vertical-align: top;\n",
              "    }\n",
              "\n",
              "    .dataframe thead th {\n",
              "        text-align: right;\n",
              "    }\n",
              "</style>\n",
              "<table border=\"1\" class=\"dataframe\">\n",
              "  <thead>\n",
              "    <tr style=\"text-align: right;\">\n",
              "      <th></th>\n",
              "      <th>instance_id</th>\n",
              "      <th>artist_name</th>\n",
              "      <th>track_name</th>\n",
              "      <th>popularity</th>\n",
              "      <th>acousticness</th>\n",
              "      <th>danceability</th>\n",
              "      <th>duration_ms</th>\n",
              "      <th>energy</th>\n",
              "      <th>instrumentalness</th>\n",
              "      <th>key</th>\n",
              "      <th>liveness</th>\n",
              "      <th>loudness</th>\n",
              "      <th>mode</th>\n",
              "      <th>speechiness</th>\n",
              "      <th>tempo</th>\n",
              "      <th>obtained_date</th>\n",
              "      <th>valence</th>\n",
              "      <th>music_genre</th>\n",
              "    </tr>\n",
              "  </thead>\n",
              "  <tbody>\n",
              "    <tr>\n",
              "      <th>0</th>\n",
              "      <td>32894.0</td>\n",
              "      <td>Röyksopp</td>\n",
              "      <td>Röyksopp's Night Out</td>\n",
              "      <td>27.0</td>\n",
              "      <td>0.00468</td>\n",
              "      <td>0.652</td>\n",
              "      <td>-1.0</td>\n",
              "      <td>0.941</td>\n",
              "      <td>0.79200</td>\n",
              "      <td>A#</td>\n",
              "      <td>0.115</td>\n",
              "      <td>-5.201</td>\n",
              "      <td>Minor</td>\n",
              "      <td>0.0748</td>\n",
              "      <td>100.889</td>\n",
              "      <td>4-Apr</td>\n",
              "      <td>0.759</td>\n",
              "      <td>Electronic</td>\n",
              "    </tr>\n",
              "    <tr>\n",
              "      <th>1</th>\n",
              "      <td>46652.0</td>\n",
              "      <td>Thievery Corporation</td>\n",
              "      <td>The Shining Path</td>\n",
              "      <td>31.0</td>\n",
              "      <td>0.01270</td>\n",
              "      <td>0.622</td>\n",
              "      <td>218293.0</td>\n",
              "      <td>0.890</td>\n",
              "      <td>0.95000</td>\n",
              "      <td>D</td>\n",
              "      <td>0.124</td>\n",
              "      <td>-7.043</td>\n",
              "      <td>Minor</td>\n",
              "      <td>0.0300</td>\n",
              "      <td>115.00200000000001</td>\n",
              "      <td>4-Apr</td>\n",
              "      <td>0.531</td>\n",
              "      <td>Electronic</td>\n",
              "    </tr>\n",
              "    <tr>\n",
              "      <th>2</th>\n",
              "      <td>30097.0</td>\n",
              "      <td>Dillon Francis</td>\n",
              "      <td>Hurricane</td>\n",
              "      <td>28.0</td>\n",
              "      <td>0.00306</td>\n",
              "      <td>0.620</td>\n",
              "      <td>215613.0</td>\n",
              "      <td>0.755</td>\n",
              "      <td>0.01180</td>\n",
              "      <td>G#</td>\n",
              "      <td>0.534</td>\n",
              "      <td>-4.617</td>\n",
              "      <td>Major</td>\n",
              "      <td>0.0345</td>\n",
              "      <td>127.994</td>\n",
              "      <td>4-Apr</td>\n",
              "      <td>0.333</td>\n",
              "      <td>Electronic</td>\n",
              "    </tr>\n",
              "    <tr>\n",
              "      <th>3</th>\n",
              "      <td>62177.0</td>\n",
              "      <td>Dubloadz</td>\n",
              "      <td>Nitro</td>\n",
              "      <td>34.0</td>\n",
              "      <td>0.02540</td>\n",
              "      <td>0.774</td>\n",
              "      <td>166875.0</td>\n",
              "      <td>0.700</td>\n",
              "      <td>0.00253</td>\n",
              "      <td>C#</td>\n",
              "      <td>0.157</td>\n",
              "      <td>-4.498</td>\n",
              "      <td>Major</td>\n",
              "      <td>0.2390</td>\n",
              "      <td>128.014</td>\n",
              "      <td>4-Apr</td>\n",
              "      <td>0.270</td>\n",
              "      <td>Electronic</td>\n",
              "    </tr>\n",
              "    <tr>\n",
              "      <th>4</th>\n",
              "      <td>24907.0</td>\n",
              "      <td>What So Not</td>\n",
              "      <td>Divide &amp; Conquer</td>\n",
              "      <td>32.0</td>\n",
              "      <td>0.00465</td>\n",
              "      <td>0.638</td>\n",
              "      <td>222369.0</td>\n",
              "      <td>0.587</td>\n",
              "      <td>0.90900</td>\n",
              "      <td>F#</td>\n",
              "      <td>0.157</td>\n",
              "      <td>-6.266</td>\n",
              "      <td>Major</td>\n",
              "      <td>0.0413</td>\n",
              "      <td>145.036</td>\n",
              "      <td>4-Apr</td>\n",
              "      <td>0.323</td>\n",
              "      <td>Electronic</td>\n",
              "    </tr>\n",
              "  </tbody>\n",
              "</table>\n",
              "</div>\n",
              "      <button class=\"colab-df-convert\" onclick=\"convertToInteractive('df-10298ce4-6de2-486e-90be-5a47c799706e')\"\n",
              "              title=\"Convert this dataframe to an interactive table.\"\n",
              "              style=\"display:none;\">\n",
              "        \n",
              "  <svg xmlns=\"http://www.w3.org/2000/svg\" height=\"24px\"viewBox=\"0 0 24 24\"\n",
              "       width=\"24px\">\n",
              "    <path d=\"M0 0h24v24H0V0z\" fill=\"none\"/>\n",
              "    <path d=\"M18.56 5.44l.94 2.06.94-2.06 2.06-.94-2.06-.94-.94-2.06-.94 2.06-2.06.94zm-11 1L8.5 8.5l.94-2.06 2.06-.94-2.06-.94L8.5 2.5l-.94 2.06-2.06.94zm10 10l.94 2.06.94-2.06 2.06-.94-2.06-.94-.94-2.06-.94 2.06-2.06.94z\"/><path d=\"M17.41 7.96l-1.37-1.37c-.4-.4-.92-.59-1.43-.59-.52 0-1.04.2-1.43.59L10.3 9.45l-7.72 7.72c-.78.78-.78 2.05 0 2.83L4 21.41c.39.39.9.59 1.41.59.51 0 1.02-.2 1.41-.59l7.78-7.78 2.81-2.81c.8-.78.8-2.07 0-2.86zM5.41 20L4 18.59l7.72-7.72 1.47 1.35L5.41 20z\"/>\n",
              "  </svg>\n",
              "      </button>\n",
              "      \n",
              "  <style>\n",
              "    .colab-df-container {\n",
              "      display:flex;\n",
              "      flex-wrap:wrap;\n",
              "      gap: 12px;\n",
              "    }\n",
              "\n",
              "    .colab-df-convert {\n",
              "      background-color: #E8F0FE;\n",
              "      border: none;\n",
              "      border-radius: 50%;\n",
              "      cursor: pointer;\n",
              "      display: none;\n",
              "      fill: #1967D2;\n",
              "      height: 32px;\n",
              "      padding: 0 0 0 0;\n",
              "      width: 32px;\n",
              "    }\n",
              "\n",
              "    .colab-df-convert:hover {\n",
              "      background-color: #E2EBFA;\n",
              "      box-shadow: 0px 1px 2px rgba(60, 64, 67, 0.3), 0px 1px 3px 1px rgba(60, 64, 67, 0.15);\n",
              "      fill: #174EA6;\n",
              "    }\n",
              "\n",
              "    [theme=dark] .colab-df-convert {\n",
              "      background-color: #3B4455;\n",
              "      fill: #D2E3FC;\n",
              "    }\n",
              "\n",
              "    [theme=dark] .colab-df-convert:hover {\n",
              "      background-color: #434B5C;\n",
              "      box-shadow: 0px 1px 3px 1px rgba(0, 0, 0, 0.15);\n",
              "      filter: drop-shadow(0px 1px 2px rgba(0, 0, 0, 0.3));\n",
              "      fill: #FFFFFF;\n",
              "    }\n",
              "  </style>\n",
              "\n",
              "      <script>\n",
              "        const buttonEl =\n",
              "          document.querySelector('#df-10298ce4-6de2-486e-90be-5a47c799706e button.colab-df-convert');\n",
              "        buttonEl.style.display =\n",
              "          google.colab.kernel.accessAllowed ? 'block' : 'none';\n",
              "\n",
              "        async function convertToInteractive(key) {\n",
              "          const element = document.querySelector('#df-10298ce4-6de2-486e-90be-5a47c799706e');\n",
              "          const dataTable =\n",
              "            await google.colab.kernel.invokeFunction('convertToInteractive',\n",
              "                                                     [key], {});\n",
              "          if (!dataTable) return;\n",
              "\n",
              "          const docLinkHtml = 'Like what you see? Visit the ' +\n",
              "            '<a target=\"_blank\" href=https://colab.research.google.com/notebooks/data_table.ipynb>data table notebook</a>'\n",
              "            + ' to learn more about interactive tables.';\n",
              "          element.innerHTML = '';\n",
              "          dataTable['output_type'] = 'display_data';\n",
              "          await google.colab.output.renderOutput(dataTable, element);\n",
              "          const docLink = document.createElement('div');\n",
              "          docLink.innerHTML = docLinkHtml;\n",
              "          element.appendChild(docLink);\n",
              "        }\n",
              "      </script>\n",
              "    </div>\n",
              "  </div>\n",
              "  "
            ]
          },
          "metadata": {},
          "execution_count": 359
        }
      ]
    },
    {
      "cell_type": "code",
      "source": [
        "dfClassic.info()"
      ],
      "metadata": {
        "colab": {
          "base_uri": "https://localhost:8080/"
        },
        "id": "oaftEnsoZe7x",
        "outputId": "43694c17-5039-4cee-c635-59d05a13b8b3"
      },
      "execution_count": null,
      "outputs": [
        {
          "output_type": "stream",
          "name": "stdout",
          "text": [
            "<class 'pandas.core.frame.DataFrame'>\n",
            "RangeIndex: 2660 entries, 0 to 2659\n",
            "Data columns (total 12 columns):\n",
            " #   Column            Non-Null Count  Dtype  \n",
            "---  ------            --------------  -----  \n",
            " 0   Unnamed: 0        2660 non-null   int64  \n",
            " 1   artist_name       2660 non-null   object \n",
            " 2   acousticness      2660 non-null   float64\n",
            " 3   danceability      2660 non-null   float64\n",
            " 4   instrumentalness  2660 non-null   float64\n",
            " 5   key               2660 non-null   int64  \n",
            " 6   liveness          2660 non-null   float64\n",
            " 7   mode              2660 non-null   float64\n",
            " 8   speechiness       2660 non-null   float64\n",
            " 9   tempo             2660 non-null   float64\n",
            " 10  valence           2660 non-null   float64\n",
            " 11  music_genre       2660 non-null   object \n",
            "dtypes: float64(8), int64(2), object(2)\n",
            "memory usage: 249.5+ KB\n"
          ]
        }
      ]
    },
    {
      "cell_type": "code",
      "source": [
        "dfClassic.head(5)"
      ],
      "metadata": {
        "colab": {
          "base_uri": "https://localhost:8080/"
        },
        "id": "twZw8nLXZkbb",
        "outputId": "89206d48-38d2-4d98-a06d-73922f508e5b"
      },
      "execution_count": null,
      "outputs": [
        {
          "output_type": "execute_result",
          "data": {
            "text/plain": [
              "   Unnamed: 0              artist_name  acousticness  danceability  \\\n",
              "0       40005     Ludwig van Beethoven         0.861         0.250   \n",
              "1       40007  Wolfgang Amadeus Mozart         0.991         0.183   \n",
              "2       40009           Franz Schubert         0.985         0.367   \n",
              "3       40010        Arcangelo Corelli         0.890         0.455   \n",
              "4       40011          Johannes Brahms         0.995         0.369   \n",
              "\n",
              "   instrumentalness  key  liveness  mode  speechiness    tempo  valence  \\\n",
              "0          0.035600    7    0.2490   0.0       0.0385  123.736   0.0397   \n",
              "1          0.000059    1    0.4590   1.0       0.0521   71.221   0.1180   \n",
              "2          0.003950    2    0.0821   1.0       0.0557  176.348   0.5650   \n",
              "3          0.229000    6    0.0766   1.0       0.0408  117.309   0.5690   \n",
              "4          0.887000   11    0.0746   1.0       0.0562   69.690   0.1240   \n",
              "\n",
              "  music_genre  \n",
              "0   Classical  \n",
              "1   Classical  \n",
              "2   Classical  \n",
              "3   Classical  \n",
              "4   Classical  "
            ],
            "text/html": [
              "\n",
              "  <div id=\"df-d48a9c73-efa1-4097-80aa-530329876f68\">\n",
              "    <div class=\"colab-df-container\">\n",
              "      <div>\n",
              "<style scoped>\n",
              "    .dataframe tbody tr th:only-of-type {\n",
              "        vertical-align: middle;\n",
              "    }\n",
              "\n",
              "    .dataframe tbody tr th {\n",
              "        vertical-align: top;\n",
              "    }\n",
              "\n",
              "    .dataframe thead th {\n",
              "        text-align: right;\n",
              "    }\n",
              "</style>\n",
              "<table border=\"1\" class=\"dataframe\">\n",
              "  <thead>\n",
              "    <tr style=\"text-align: right;\">\n",
              "      <th></th>\n",
              "      <th>Unnamed: 0</th>\n",
              "      <th>artist_name</th>\n",
              "      <th>acousticness</th>\n",
              "      <th>danceability</th>\n",
              "      <th>instrumentalness</th>\n",
              "      <th>key</th>\n",
              "      <th>liveness</th>\n",
              "      <th>mode</th>\n",
              "      <th>speechiness</th>\n",
              "      <th>tempo</th>\n",
              "      <th>valence</th>\n",
              "      <th>music_genre</th>\n",
              "    </tr>\n",
              "  </thead>\n",
              "  <tbody>\n",
              "    <tr>\n",
              "      <th>0</th>\n",
              "      <td>40005</td>\n",
              "      <td>Ludwig van Beethoven</td>\n",
              "      <td>0.861</td>\n",
              "      <td>0.250</td>\n",
              "      <td>0.035600</td>\n",
              "      <td>7</td>\n",
              "      <td>0.2490</td>\n",
              "      <td>0.0</td>\n",
              "      <td>0.0385</td>\n",
              "      <td>123.736</td>\n",
              "      <td>0.0397</td>\n",
              "      <td>Classical</td>\n",
              "    </tr>\n",
              "    <tr>\n",
              "      <th>1</th>\n",
              "      <td>40007</td>\n",
              "      <td>Wolfgang Amadeus Mozart</td>\n",
              "      <td>0.991</td>\n",
              "      <td>0.183</td>\n",
              "      <td>0.000059</td>\n",
              "      <td>1</td>\n",
              "      <td>0.4590</td>\n",
              "      <td>1.0</td>\n",
              "      <td>0.0521</td>\n",
              "      <td>71.221</td>\n",
              "      <td>0.1180</td>\n",
              "      <td>Classical</td>\n",
              "    </tr>\n",
              "    <tr>\n",
              "      <th>2</th>\n",
              "      <td>40009</td>\n",
              "      <td>Franz Schubert</td>\n",
              "      <td>0.985</td>\n",
              "      <td>0.367</td>\n",
              "      <td>0.003950</td>\n",
              "      <td>2</td>\n",
              "      <td>0.0821</td>\n",
              "      <td>1.0</td>\n",
              "      <td>0.0557</td>\n",
              "      <td>176.348</td>\n",
              "      <td>0.5650</td>\n",
              "      <td>Classical</td>\n",
              "    </tr>\n",
              "    <tr>\n",
              "      <th>3</th>\n",
              "      <td>40010</td>\n",
              "      <td>Arcangelo Corelli</td>\n",
              "      <td>0.890</td>\n",
              "      <td>0.455</td>\n",
              "      <td>0.229000</td>\n",
              "      <td>6</td>\n",
              "      <td>0.0766</td>\n",
              "      <td>1.0</td>\n",
              "      <td>0.0408</td>\n",
              "      <td>117.309</td>\n",
              "      <td>0.5690</td>\n",
              "      <td>Classical</td>\n",
              "    </tr>\n",
              "    <tr>\n",
              "      <th>4</th>\n",
              "      <td>40011</td>\n",
              "      <td>Johannes Brahms</td>\n",
              "      <td>0.995</td>\n",
              "      <td>0.369</td>\n",
              "      <td>0.887000</td>\n",
              "      <td>11</td>\n",
              "      <td>0.0746</td>\n",
              "      <td>1.0</td>\n",
              "      <td>0.0562</td>\n",
              "      <td>69.690</td>\n",
              "      <td>0.1240</td>\n",
              "      <td>Classical</td>\n",
              "    </tr>\n",
              "  </tbody>\n",
              "</table>\n",
              "</div>\n",
              "      <button class=\"colab-df-convert\" onclick=\"convertToInteractive('df-d48a9c73-efa1-4097-80aa-530329876f68')\"\n",
              "              title=\"Convert this dataframe to an interactive table.\"\n",
              "              style=\"display:none;\">\n",
              "        \n",
              "  <svg xmlns=\"http://www.w3.org/2000/svg\" height=\"24px\"viewBox=\"0 0 24 24\"\n",
              "       width=\"24px\">\n",
              "    <path d=\"M0 0h24v24H0V0z\" fill=\"none\"/>\n",
              "    <path d=\"M18.56 5.44l.94 2.06.94-2.06 2.06-.94-2.06-.94-.94-2.06-.94 2.06-2.06.94zm-11 1L8.5 8.5l.94-2.06 2.06-.94-2.06-.94L8.5 2.5l-.94 2.06-2.06.94zm10 10l.94 2.06.94-2.06 2.06-.94-2.06-.94-.94-2.06-.94 2.06-2.06.94z\"/><path d=\"M17.41 7.96l-1.37-1.37c-.4-.4-.92-.59-1.43-.59-.52 0-1.04.2-1.43.59L10.3 9.45l-7.72 7.72c-.78.78-.78 2.05 0 2.83L4 21.41c.39.39.9.59 1.41.59.51 0 1.02-.2 1.41-.59l7.78-7.78 2.81-2.81c.8-.78.8-2.07 0-2.86zM5.41 20L4 18.59l7.72-7.72 1.47 1.35L5.41 20z\"/>\n",
              "  </svg>\n",
              "      </button>\n",
              "      \n",
              "  <style>\n",
              "    .colab-df-container {\n",
              "      display:flex;\n",
              "      flex-wrap:wrap;\n",
              "      gap: 12px;\n",
              "    }\n",
              "\n",
              "    .colab-df-convert {\n",
              "      background-color: #E8F0FE;\n",
              "      border: none;\n",
              "      border-radius: 50%;\n",
              "      cursor: pointer;\n",
              "      display: none;\n",
              "      fill: #1967D2;\n",
              "      height: 32px;\n",
              "      padding: 0 0 0 0;\n",
              "      width: 32px;\n",
              "    }\n",
              "\n",
              "    .colab-df-convert:hover {\n",
              "      background-color: #E2EBFA;\n",
              "      box-shadow: 0px 1px 2px rgba(60, 64, 67, 0.3), 0px 1px 3px 1px rgba(60, 64, 67, 0.15);\n",
              "      fill: #174EA6;\n",
              "    }\n",
              "\n",
              "    [theme=dark] .colab-df-convert {\n",
              "      background-color: #3B4455;\n",
              "      fill: #D2E3FC;\n",
              "    }\n",
              "\n",
              "    [theme=dark] .colab-df-convert:hover {\n",
              "      background-color: #434B5C;\n",
              "      box-shadow: 0px 1px 3px 1px rgba(0, 0, 0, 0.15);\n",
              "      filter: drop-shadow(0px 1px 2px rgba(0, 0, 0, 0.3));\n",
              "      fill: #FFFFFF;\n",
              "    }\n",
              "  </style>\n",
              "\n",
              "      <script>\n",
              "        const buttonEl =\n",
              "          document.querySelector('#df-d48a9c73-efa1-4097-80aa-530329876f68 button.colab-df-convert');\n",
              "        buttonEl.style.display =\n",
              "          google.colab.kernel.accessAllowed ? 'block' : 'none';\n",
              "\n",
              "        async function convertToInteractive(key) {\n",
              "          const element = document.querySelector('#df-d48a9c73-efa1-4097-80aa-530329876f68');\n",
              "          const dataTable =\n",
              "            await google.colab.kernel.invokeFunction('convertToInteractive',\n",
              "                                                     [key], {});\n",
              "          if (!dataTable) return;\n",
              "\n",
              "          const docLinkHtml = 'Like what you see? Visit the ' +\n",
              "            '<a target=\"_blank\" href=https://colab.research.google.com/notebooks/data_table.ipynb>data table notebook</a>'\n",
              "            + ' to learn more about interactive tables.';\n",
              "          element.innerHTML = '';\n",
              "          dataTable['output_type'] = 'display_data';\n",
              "          await google.colab.output.renderOutput(dataTable, element);\n",
              "          const docLink = document.createElement('div');\n",
              "          docLink.innerHTML = docLinkHtml;\n",
              "          element.appendChild(docLink);\n",
              "        }\n",
              "      </script>\n",
              "    </div>\n",
              "  </div>\n",
              "  "
            ]
          },
          "metadata": {},
          "execution_count": 361
        }
      ]
    },
    {
      "cell_type": "code",
      "source": [
        "#Número de compositores\n",
        "dfClassic['artist_name'].nunique()"
      ],
      "metadata": {
        "colab": {
          "base_uri": "https://localhost:8080/"
        },
        "id": "BXJsqrYRfQDu",
        "outputId": "fb4a87bf-49b9-4f0e-930a-884099d9842d"
      },
      "execution_count": null,
      "outputs": [
        {
          "output_type": "execute_result",
          "data": {
            "text/plain": [
              "78"
            ]
          },
          "metadata": {},
          "execution_count": 362
        }
      ]
    },
    {
      "cell_type": "code",
      "source": [
        "plt.figure(figsize=(30,5))\n",
        "ax = sns.countplot(x=\"music_genre\", data=df)\n",
        "ax.set_title('Music Genre Distribution', fontsize=20)\n",
        "for p in ax.patches:\n",
        "    ax.annotate(f'\\n{p.get_height()}', (p.get_x()+0.2, p.get_height()), ha='center', va='top', color='white', size=20)\n",
        "plt.show()"
      ],
      "metadata": {
        "colab": {
          "base_uri": "https://localhost:8080/"
        },
        "id": "hukybZySojum",
        "outputId": "52229e0c-2abd-4db6-d6f3-0abcc89f137a"
      },
      "execution_count": null,
      "outputs": [
        {
          "output_type": "display_data",
          "data": {
            "text/plain": [
              "<Figure size 2160x360 with 1 Axes>"
            ],
            "image/png": "[encoded data removed]"
          },
          "metadata": {
            "needs_background": "light"
          }
        }
      ]
    },
    {
      "cell_type": "code",
      "source": [
        "#Remove colunas que não são pertinentes\n",
        "#Realiza um mapeamento da features 'mode' e 'key'\n",
        "#Remove dados faltosos e converte a feature 'tempo' para float \n",
        "#df = df.drop(['artist_name','instance_id','track_name','popularity','duration_ms','obtained_date'], axis=1)\n",
        "df = df.drop(['instance_id','popularity','duration_ms','obtained_date'], axis=1)\n",
        "df[\"mode\"] = df[\"mode\"].map({\"Minor\": 0, \"Major\": 1})\n",
        "df[\"key\"] = Label_enc(df[\"key\"])\n",
        "df = df.drop(df[df[\"tempo\"] == \"?\"].index)\n",
        "df = df.drop(df[df[\"artist_name\"] == \"empty_field\"].index)\n",
        "df[\"tempo\"] = df[\"tempo\"].astype(\"float\")\n",
        "df = df.dropna()"
      ],
      "metadata": {
        "id": "Xc8xSqU4tHrJ"
      },
      "execution_count": null,
      "outputs": []
    },
    {
      "cell_type": "code",
      "source": [
        "#Matriz de correlação\n",
        "df_bis = df.copy()\n",
        "plt.figure(figsize=(12,10))\n",
        "df_bis[\"music_genre\"] = Label_enc(df_bis[\"music_genre\"])\n",
        "tabcorr = df_bis.corr()\n",
        "sns.heatmap(abs(tabcorr), annot=True, linewidths=.5,  cmap=\"coolwarm\")"
      ],
      "metadata": {
        "colab": {
          "base_uri": "https://localhost:8080/"
        },
        "id": "7VRpKx_42KEP",
        "outputId": "7f56b8fb-d3a7-467a-9542-4836a5e338f5"
      },
      "execution_count": null,
      "outputs": [
        {
          "output_type": "execute_result",
          "data": {
            "text/plain": [
              "<matplotlib.axes._subplots.AxesSubplot at 0x7f73126b2bd0>"
            ]
          },
          "metadata": {},
          "execution_count": 365
        },
        {
          "output_type": "display_data",
          "data": {
            "text/plain": [
              "<Figure size 864x720 with 2 Axes>"
            ],
            "image/png": "[encoded data removed]"
          },
          "metadata": {
            "needs_background": "light"
          }
        }
      ]
    },
    {
      "cell_type": "code",
      "source": [
        "#Remove duas das três features com alta correlação\n",
        "df = df.drop(['energy','loudness'], axis=1)\n",
        "df = df[df.music_genre != 'Classical']\n",
        "df = df.drop(['music_genre'], axis=1)"
      ],
      "metadata": {
        "id": "dP4jX7n-2-3v"
      },
      "execution_count": null,
      "outputs": []
    },
    {
      "cell_type": "code",
      "source": [
        "df.info()"
      ],
      "metadata": {
        "colab": {
          "base_uri": "https://localhost:8080/"
        },
        "id": "TDzldRXhtkd_",
        "outputId": "147424e7-954d-4e53-c246-c6ab3e83e16b"
      },
      "execution_count": null,
      "outputs": [
        {
          "output_type": "stream",
          "name": "stdout",
          "text": [
            "<class 'pandas.core.frame.DataFrame'>\n",
            "Int64Index: 38534 entries, 0 to 50004\n",
            "Data columns (total 11 columns):\n",
            " #   Column            Non-Null Count  Dtype  \n",
            "---  ------            --------------  -----  \n",
            " 0   artist_name       38534 non-null  object \n",
            " 1   track_name        38534 non-null  object \n",
            " 2   acousticness      38534 non-null  float64\n",
            " 3   danceability      38534 non-null  float64\n",
            " 4   instrumentalness  38534 non-null  float64\n",
            " 5   key               38534 non-null  int64  \n",
            " 6   liveness          38534 non-null  float64\n",
            " 7   mode              38534 non-null  float64\n",
            " 8   speechiness       38534 non-null  float64\n",
            " 9   tempo             38534 non-null  float64\n",
            " 10  valence           38534 non-null  float64\n",
            "dtypes: float64(8), int64(1), object(2)\n",
            "memory usage: 3.5+ MB\n"
          ]
        }
      ]
    },
    {
      "cell_type": "code",
      "source": [
        "#Remove colunas que não são pertinentes\n",
        "dfClassic = dfClassic.drop(['music_genre','Unnamed: 0'], axis=1)"
      ],
      "metadata": {
        "id": "ctghKmHbw6Ml"
      },
      "execution_count": null,
      "outputs": []
    },
    {
      "cell_type": "code",
      "source": [
        "#Aquisição das caracteristicas dos compositores\n",
        "dfClassic = dfClassic.groupby(['artist_name'],as_index=False).mean()\n",
        "df2 = dfClassic.copy()\n",
        "df2 = df2.drop(['artist_name'], axis=1)"
      ],
      "metadata": {
        "id": "AoRm8-R1yD31"
      },
      "execution_count": null,
      "outputs": []
    },
    {
      "cell_type": "code",
      "source": [
        "#Reudução de dimensionalidade\n",
        "pca = PCA(n_components=1)\n",
        "pcaResult = pca.fit_transform(df2)\n",
        "pcaResult2 = pca.fit_transform(df.iloc[:,2:])"
      ],
      "metadata": {
        "id": "_9aMCJpM0NJo"
      },
      "execution_count": null,
      "outputs": []
    },
    {
      "cell_type": "code",
      "source": [
        "#Relação das músicas do df com o compositor correspondente\n",
        "y = []\n",
        "for i in range(len(pcaResult2)):\n",
        "  smallest = abs(pcaResult2[i]-pcaResult[0])\n",
        "  smIndex = 0\n",
        "  for j in range(1, len(pcaResult)):\n",
        "    aux = abs(pcaResult2[i]-pcaResult[j])\n",
        "    if aux < smallest:\n",
        "      smallest = aux\n",
        "      smIndex = j\n",
        "  y.append(dfClassic.iloc[smIndex]['artist_name'])"
      ],
      "metadata": {
        "id": "o7nXmjX0Dcqh"
      },
      "execution_count": null,
      "outputs": []
    },
    {
      "cell_type": "code",
      "source": [
        "plt.figure(figsize=(12,10))\n",
        "sns.countplot(y,label=\"Count\")\n",
        "plt.show()"
      ],
      "metadata": {
        "colab": {
          "base_uri": "https://localhost:8080/"
        },
        "id": "PMCLfpeOxXCL",
        "outputId": "2bee32c4-a211-4607-f458-693c9c1c9f2c"
      },
      "execution_count": null,
      "outputs": [
        {
          "output_type": "display_data",
          "data": {
            "text/plain": [
              "<Figure size 864x720 with 1 Axes>"
            ],
            "image/png": "[encoded data removed]"
          },
          "metadata": {
            "needs_background": "light"
          }
        }
      ]
    },
    {
      "cell_type": "code",
      "source": [
        "#Quantidade limite de elementos que as classes podem ter\n",
        "#Variável utilizada no undersample\n",
        "und = 100"
      ],
      "metadata": {
        "id": "rRJyogjzCZkv"
      },
      "execution_count": null,
      "outputs": []
    },
    {
      "cell_type": "code",
      "source": [
        "#Obtém o dicionário que será passado como parametro para a função\n",
        "#RandomUnderSampler(), por se tratar de uma multi-class classification\n",
        "yy = y.copy()\n",
        "myset = set(yy)\n",
        "dict = {}\n",
        "for elem in yy:\n",
        "  if y.count(elem) > und:\n",
        "    dict.update({elem:und})"
      ],
      "metadata": {
        "id": "JwZciQ2C_8b1"
      },
      "execution_count": null,
      "outputs": []
    },
    {
      "cell_type": "code",
      "source": [
        "#Performa o undersample para balancear as classes\n",
        "undersample = RandomUnderSampler(sampling_strategy=dict)\n",
        "X, y = undersample.fit_resample(df, y)"
      ],
      "metadata": {
        "id": "l5R9f3_d0kKR"
      },
      "execution_count": null,
      "outputs": []
    },
    {
      "cell_type": "code",
      "source": [
        "plt.figure(figsize=(12,10))\n",
        "sns.countplot(y,label=\"Count\")\n",
        "plt.show()"
      ],
      "metadata": {
        "colab": {
          "base_uri": "https://localhost:8080/"
        },
        "id": "2KOzbbiAGmqN",
        "outputId": "cd38cc9e-5ad4-453b-d443-f9a0398233d5"
      },
      "execution_count": null,
      "outputs": [
        {
          "output_type": "display_data",
          "data": {
            "text/plain": [
              "<Figure size 864x720 with 1 Axes>"
            ],
            "image/png": "[encoded data removed]"
          },
          "metadata": {
            "needs_background": "light"
          }
        }
      ]
    },
    {
      "cell_type": "code",
      "source": [
        "#Performa o oversample para balancear as classes\n",
        "oversample = RandomOverSampler(sampling_strategy='all')\n",
        "X, y = oversample.fit_resample(X, y)"
      ],
      "metadata": {
        "id": "KB76ZYI-xxX4"
      },
      "execution_count": null,
      "outputs": []
    },
    {
      "cell_type": "code",
      "source": [
        "plt.figure(figsize=(12,10))\n",
        "sns.countplot(y,label=\"Count\")\n",
        "plt.show()"
      ],
      "metadata": {
        "colab": {
          "base_uri": "https://localhost:8080/"
        },
        "id": "A7EOWGDVzgYE",
        "outputId": "4b42b5f0-5054-4d5a-fa6a-01949568e690"
      },
      "execution_count": null,
      "outputs": [
        {
          "output_type": "display_data",
          "data": {
            "text/plain": [
              "<Figure size 864x720 with 1 Axes>"
            ],
            "image/png": "[encoded data removed]"
          },
          "metadata": {
            "needs_background": "light"
          }
        }
      ]
    },
    {
      "cell_type": "markdown",
      "source": [
        "# Model Training"
      ],
      "metadata": {
        "id": "doAJVsoDoC1X"
      }
    },
    {
      "cell_type": "code",
      "source": [
        "#Normalização\n",
        "sc = StandardScaler()\n",
        "X.iloc[:,2:] = sc.fit_transform(X.iloc[:,2:])"
      ],
      "metadata": {
        "id": "BElIcU9VutW2"
      },
      "execution_count": null,
      "outputs": []
    },
    {
      "cell_type": "code",
      "source": [
        "#Divisão dos conjuntos de treino e teste\n",
        "X_train, X_test, y_train, y_test = train_test_split(X, y, test_size = 0.10, random_state = 123)"
      ],
      "metadata": {
        "id": "Zf5eJ31Tm2zb"
      },
      "execution_count": null,
      "outputs": []
    },
    {
      "cell_type": "code",
      "source": [
        "#Treinamento\n",
        "clf = RandomForestClassifier(n_estimators = 100,max_depth=10,oob_score=True, max_features=\"sqrt\").fit(X_train.iloc[:,2:], y_train)"
      ],
      "metadata": {
        "id": "dAdvEsqGp0iQ"
      },
      "execution_count": null,
      "outputs": []
    },
    {
      "cell_type": "markdown",
      "source": [
        "# Results"
      ],
      "metadata": {
        "id": "AJLnuFRfvQ2H"
      }
    },
    {
      "cell_type": "code",
      "source": [
        "print(sklearn.metrics.confusion_matrix(y_test, clf.predict(X_test.iloc[:,2:])))"
      ],
      "metadata": {
        "colab": {
          "base_uri": "https://localhost:8080/"
        },
        "id": "3HKggR8GqIuq",
        "outputId": "80506200-f6ca-4f12-f308-300a383db97f"
      },
      "execution_count": null,
      "outputs": [
        {
          "output_type": "stream",
          "name": "stdout",
          "text": [
            "[[ 4  0  0 ...  0  0  0]\n",
            " [ 0  5  0 ...  0  1  0]\n",
            " [ 0  0  8 ...  0  0  0]\n",
            " ...\n",
            " [ 0  0  0 ... 10  0  0]\n",
            " [ 0  0  0 ...  0 11  0]\n",
            " [ 0  0  0 ...  0  0 15]]\n"
          ]
        }
      ]
    },
    {
      "cell_type": "code",
      "source": [
        "print(sklearn.metrics.classification_report(y_test, clf.predict(X_test.iloc[:,2:])))"
      ],
      "metadata": {
        "colab": {
          "base_uri": "https://localhost:8080/"
        },
        "id": "-3XJm6PoqLuc",
        "outputId": "ba1dd61e-692d-40b8-c5c7-ada368c5bb38"
      },
      "execution_count": null,
      "outputs": [
        {
          "output_type": "stream",
          "name": "stdout",
          "text": [
            "                                  precision    recall  f1-score   support\n",
            "\n",
            "                   Aaron Copland       0.67      0.80      0.73         5\n",
            "                      Alban Berg       1.00      0.71      0.83         7\n",
            "               Alexander Borodin       0.89      0.89      0.89         9\n",
            "              Alexander Scriabin       1.00      0.58      0.74        12\n",
            "                  Anton Bruckner       1.00      0.90      0.95        10\n",
            "                 Antonio Salieri       1.00      1.00      1.00        11\n",
            "                 Antonio Vivaldi       0.85      1.00      0.92        11\n",
            "                  Antonín Dvořák       0.80      0.89      0.84         9\n",
            "               Arcangelo Corelli       1.00      0.91      0.95        11\n",
            "               Arnold Schoenberg       1.00      1.00      1.00         6\n",
            "                 Bedřich Smetana       0.91      0.91      0.91        11\n",
            "                Benjamin Britten       1.00      0.67      0.80        15\n",
            "                     Béla Bartók       1.00      1.00      1.00         7\n",
            "             Camille Saint-Saëns       0.77      0.83      0.80        12\n",
            "            Carl Maria von Weber       1.00      1.00      1.00         8\n",
            "       Carl Philipp Emanuel Bach       0.93      1.00      0.96        13\n",
            "                  Charles Gounod       1.00      0.88      0.93        16\n",
            "       Christoph Willibald Gluck       0.92      1.00      0.96        12\n",
            "                  Claude Debussy       0.86      1.00      0.92        12\n",
            "              Claudio Monteverdi       1.00      1.00      1.00         6\n",
            "                    César Franck       0.89      1.00      0.94         8\n",
            "             Dmitri Shostakovich       0.89      1.00      0.94         8\n",
            "              Domenico Scarlatti       1.00      0.86      0.92         7\n",
            "                    Edvard Grieg       0.71      0.38      0.50        13\n",
            "                    Edward Elgar       0.89      1.00      0.94         8\n",
            "                      Erik Satie       1.00      1.00      1.00         8\n",
            "               Felix Mendelssohn       0.93      0.72      0.81        18\n",
            "                 Francis Poulenc       1.00      0.80      0.89         5\n",
            "                     Franz Liszt       1.00      0.94      0.97        16\n",
            "                  Franz Schubert       1.00      0.82      0.90        11\n",
            "               François Couperin       1.00      1.00      1.00        13\n",
            "                 Frédéric Chopin       0.79      1.00      0.88        11\n",
            "                   Gabriel Fauré       0.62      0.62      0.62         8\n",
            "          Georg Philipp Telemann       1.00      1.00      1.00        10\n",
            "          George Frideric Handel       0.62      1.00      0.77        10\n",
            "                 George Gershwin       0.92      1.00      0.96        12\n",
            "                   Georges Bizet       0.88      1.00      0.93         7\n",
            "                 Giacomo Puccini       1.00      0.90      0.95        10\n",
            "               Gioachino Rossini       1.00      1.00      1.00         8\n",
            "     Giovanni Battista Pergolesi       1.00      1.00      1.00        11\n",
            "Giovanni Pierluigi da Palestrina       1.00      0.88      0.93         8\n",
            "                  Giuseppe Verdi       0.88      1.00      0.93         7\n",
            "                    Gustav Holst       1.00      0.82      0.90        11\n",
            "                   Gustav Mahler       0.80      1.00      0.89         4\n",
            "                  Hector Berlioz       0.91      1.00      0.95        10\n",
            "                   Henry Purcell       0.80      0.36      0.50        11\n",
            "                 Igor Stravinsky       0.86      0.86      0.86         7\n",
            "               Jacques Offenbach       0.90      1.00      0.95         9\n",
            "                   Jean Sibelius       0.86      1.00      0.92        12\n",
            "             Jean-Baptiste Lully       0.90      0.90      0.90        10\n",
            "            Jean-Philippe Rameau       0.88      0.88      0.88         8\n",
            "                Johann Pachelbel       1.00      0.78      0.88         9\n",
            "           Johann Sebastian Bach       0.64      1.00      0.78         7\n",
            "               Johann Strauss II       1.00      1.00      1.00        10\n",
            "                 Johannes Brahms       0.87      0.93      0.90        14\n",
            "                  Jules Massenet       0.91      0.83      0.87        12\n",
            "                    Leoš Janáček       1.00      0.89      0.94         9\n",
            "            Ludwig van Beethoven       1.00      0.93      0.97        15\n",
            "                Luigi Boccherini       0.80      0.86      0.83        14\n",
            "                   Maurice Ravel       0.88      1.00      0.93         7\n",
            "                       Max Bruch       1.00      0.92      0.96        13\n",
            "                Niccolò Paganini       0.73      0.85      0.79        13\n",
            "         Nikolai Rimsky-Korsakov       0.83      1.00      0.91         5\n",
            "                Olivier Messiaen       0.60      0.67      0.63         9\n",
            "        Pyotr Ilyich Tchaikovsky       0.89      0.73      0.80        11\n",
            "                         Pérotin       1.00      1.00      1.00         8\n",
            "          Ralph Vaughan Williams       1.00      1.00      1.00         9\n",
            "                 Richard Strauss       0.70      0.64      0.67        11\n",
            "                  Richard Wagner       1.00      0.90      0.95        10\n",
            "                 Robert Schumann       0.50      0.57      0.53         7\n",
            "                   Samuel Barber       1.00      1.00      1.00         7\n",
            "                Sergei Prokofiev       1.00      0.89      0.94         9\n",
            "             Sergei Rachmaninoff       0.71      1.00      0.83        10\n",
            "                   Thomas Tallis       1.00      1.00      1.00        13\n",
            "                 Tomaso Albinoni       0.75      0.90      0.82        10\n",
            "                Vincenzo Bellini       0.91      1.00      0.95        10\n",
            "                    William Byrd       0.73      1.00      0.85        11\n",
            "         Wolfgang Amadeus Mozart       1.00      1.00      1.00        15\n",
            "\n",
            "                        accuracy                           0.89       780\n",
            "                       macro avg       0.90      0.90      0.89       780\n",
            "                    weighted avg       0.90      0.89      0.89       780\n",
            "\n"
          ]
        }
      ]
    },
    {
      "cell_type": "markdown",
      "source": [
        "# Predict"
      ],
      "metadata": {
        "id": "VPrGwWtM8WwQ"
      }
    },
    {
      "cell_type": "code",
      "source": [
        "#Exibe as informações de uma music track\n",
        "track = 38\n",
        "print(X_test.iloc[track])"
      ],
      "metadata": {
        "colab": {
          "base_uri": "https://localhost:8080/"
        },
        "id": "pmGfj3qOwQs4",
        "outputId": "8e4c2a9d-0588-4f6b-808e-c3ee0c2d2e6e"
      },
      "execution_count": null,
      "outputs": [
        {
          "output_type": "stream",
          "name": "stdout",
          "text": [
            "artist_name         System Of A Down\n",
            "track_name                  Toxicity\n",
            "acousticness               -0.881968\n",
            "danceability               -1.283035\n",
            "instrumentalness           -0.498888\n",
            "key                         1.610265\n",
            "liveness                    0.028128\n",
            "mode                        0.748957\n",
            "speechiness                -0.302174\n",
            "tempo                      -0.388729\n",
            "valence                    -0.073746\n",
            "Name: 5030, dtype: object\n"
          ]
        }
      ]
    },
    {
      "cell_type": "code",
      "source": [
        "#Prediz um compositor para a music track selecionada\n",
        "print(clf.predict(np.array(X_test.iloc[track,2:]).reshape(1, -1)))"
      ],
      "metadata": {
        "colab": {
          "base_uri": "https://localhost:8080/"
        },
        "id": "tQNnzZOFvi8g",
        "outputId": "1f507805-21b3-4d38-888b-cbe254290d46"
      },
      "execution_count": null,
      "outputs": [
        {
          "output_type": "stream",
          "name": "stdout",
          "text": [
            "['Maurice Ravel']\n"
          ]
        }
      ]
    },
    {
      "cell_type": "markdown",
      "source": [
        "# Trabalhos futuros:"
      ],
      "metadata": {
        "id": "CXB5DPFwfux3"
      }
    },
    {
      "cell_type": "markdown",
      "source": [
        "## 1.   Mudar a metodologia de aquisição das características dos compositores:\n",
        "\n",
        "  ### 1.1   Substituir a média por outra forma de cálculo mais sofisticada;\n",
        "\n",
        "  ### 1.2   Substituir o PCA por Autoencoder;\n",
        "\n",
        "## 2.   Criação de um método que receba um arquivo .mp3 de uma música qualquer e retorne as características da música.\n",
        "\n"
      ],
      "metadata": {
        "id": "ssmPLi76f7Gc"
      }
    }
  ]
}