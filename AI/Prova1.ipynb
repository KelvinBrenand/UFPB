{
  "nbformat": 4,
  "nbformat_minor": 0,
  "metadata": {
    "colab": {
      "name": "Prova1-Thais_Senpai",
      "provenance": []
    },
    "kernelspec": {
      "name": "python3",
      "display_name": "Python 3"
    },
    "language_info": {
      "name": "python"
    }
  },
  "cells": [
    {
      "cell_type": "markdown",
      "source": [
        "# PROVA INTELIGÊNCIA ARTIFICIAL\n",
        "Aluno: Kelvin Brenand - 20180005270"
      ],
      "metadata": {
        "id": "wyEhejbBVdGa"
      }
    },
    {
      "cell_type": "markdown",
      "source": [
        "# Questão 3:"
      ],
      "metadata": {
        "id": "x-zYCa_0wWBP"
      }
    },
    {
      "cell_type": "markdown",
      "source": [
        "# Imports"
      ],
      "metadata": {
        "id": "oTEOAkYIwceY"
      }
    },
    {
      "cell_type": "code",
      "execution_count": null,
      "metadata": {
        "id": "rQv2KVV06JfG"
      },
      "outputs": [],
      "source": [
        "import numpy as np\n",
        "import pandas as pd\n",
        "from sklearn.preprocessing import LabelEncoder, StandardScaler\n",
        "from sklearn.model_selection import train_test_split\n",
        "from sklearn.neighbors import KNeighborsClassifier\n",
        "from sklearn import metrics\n",
        "from imblearn.over_sampling import RandomOverSampler\n",
        "from imblearn.under_sampling import RandomUnderSampler"
      ]
    },
    {
      "cell_type": "code",
      "source": [
        "dataset = pd.read_csv(\"https://drive.google.com/uc?export=download&id=1qdGJrpXYsRNrYZX5IcE6gXp6wltZJaft\")"
      ],
      "metadata": {
        "id": "3p1_0B4gwj3S"
      },
      "execution_count": null,
      "outputs": []
    },
    {
      "cell_type": "markdown",
      "source": [
        "# Pré-processamento"
      ],
      "metadata": {
        "id": "nyUmTnW2wlKe"
      }
    },
    {
      "cell_type": "code",
      "source": [
        "#Remove linhas com NaN, remove linhas com número de quartos igual a 0, 7, 8, 9 e 10\n",
        "dataset.dropna(subset = [\"Location\"], inplace=True)\n",
        "dataset = dataset.rename(columns={'No. of Bedrooms': 'Bedrooms'})\n",
        "dataset = dataset[dataset.Bedrooms != 0]\n",
        "dataset = dataset[dataset.Bedrooms != 7]\n",
        "dataset = dataset[dataset.Bedrooms != 8]\n",
        "dataset = dataset[dataset.Bedrooms != 9]\n",
        "dataset = dataset[dataset.Bedrooms != 10]"
      ],
      "metadata": {
        "id": "bnU0kBh_6V9W"
      },
      "execution_count": null,
      "outputs": []
    },
    {
      "cell_type": "code",
      "source": [
        "#Correlações\n",
        "print(np.corrcoef(dataset[\"No. of Bathrooms\"], dataset[\"Bedrooms\"]))\n",
        "print(np.corrcoef(dataset[\"No. of Receptions\"], dataset[\"Bedrooms\"]))"
      ],
      "metadata": {
        "colab": {
          "base_uri": "https://localhost:8080/"
        },
        "id": "YtZheQFJM33n",
        "outputId": "65f808fb-b45e-4f24-ce73-144564430f69"
      },
      "execution_count": null,
      "outputs": [
        {
          "output_type": "stream",
          "name": "stdout",
          "text": [
            "[[1. 1.]\n",
            " [1. 1.]]\n",
            "[[1. 1.]\n",
            " [1. 1.]]\n"
          ]
        }
      ]
    },
    {
      "cell_type": "code",
      "source": [
        "#Remove colunas, realiza oversampling e downsampling\n",
        "X = dataset.iloc[:, [2, 4, 8]].values #Price, Area, Location\n",
        "y = dataset.iloc[:, 5].values\n",
        "oversample = RandomOverSampler(sampling_strategy={6:200})\n",
        "X, y = oversample.fit_resample(X, y)\n",
        "undersample = RandomUnderSampler(sampling_strategy='all')\n",
        "X, y = undersample.fit_resample(X, y)"
      ],
      "metadata": {
        "id": "SwPfFHyCbcwG"
      },
      "execution_count": null,
      "outputs": []
    },
    {
      "cell_type": "code",
      "source": [
        "#Tranforma 'Location' de string para int (0-362)\n",
        "le = LabelEncoder()\n",
        "X[:,2] = le.fit_transform(X[:,2])"
      ],
      "metadata": {
        "id": "he-E33gW7yBP"
      },
      "execution_count": null,
      "outputs": []
    },
    {
      "cell_type": "code",
      "source": [
        "#Divide os dados entre conjunto de treino e teste\n",
        "X_train, X_test, y_train, y_test = train_test_split(X, y, test_size = 0.20, random_state = 0)"
      ],
      "metadata": {
        "id": "3x4odzNo8WoY"
      },
      "execution_count": null,
      "outputs": []
    },
    {
      "cell_type": "code",
      "source": [
        "#Normalização\n",
        "sc = StandardScaler()\n",
        "X_train = sc.fit_transform(X_train)\n",
        "X_test = sc.transform(X_test)"
      ],
      "metadata": {
        "id": "GKPB3enj9CrK"
      },
      "execution_count": null,
      "outputs": []
    },
    {
      "cell_type": "markdown",
      "source": [
        "# Treinamento"
      ],
      "metadata": {
        "id": "QrlyCCasxSKN"
      }
    },
    {
      "cell_type": "code",
      "source": [
        "#Treino com distância euclidiana\n",
        "classifier = KNeighborsClassifier(n_neighbors = 51, metric = 'euclidean')\n",
        "classifier.fit(X_train, y_train)"
      ],
      "metadata": {
        "colab": {
          "base_uri": "https://localhost:8080/"
        },
        "id": "JIrtZIeK-Y8j",
        "outputId": "fc09e34c-ab84-4730-a944-a7f2291343b4"
      },
      "execution_count": null,
      "outputs": [
        {
          "output_type": "execute_result",
          "data": {
            "text/plain": [
              "KNeighborsClassifier(metric='euclidean', n_neighbors=51)"
            ]
          },
          "metadata": {},
          "execution_count": 20
        }
      ]
    },
    {
      "cell_type": "code",
      "source": [
        "#Treino com distância de manhattan\n",
        "classifier = KNeighborsClassifier(n_neighbors = 35, metric = 'manhattan')\n",
        "classifier.fit(X_train, y_train)"
      ],
      "metadata": {
        "colab": {
          "base_uri": "https://localhost:8080/"
        },
        "id": "PguxoFT7xfE-",
        "outputId": "5024d2e7-8db2-4efa-fae1-e9db1ba19866"
      },
      "execution_count": null,
      "outputs": [
        {
          "output_type": "execute_result",
          "data": {
            "text/plain": [
              "KNeighborsClassifier(metric='manhattan', n_neighbors=35)"
            ]
          },
          "metadata": {},
          "execution_count": 14
        }
      ]
    },
    {
      "cell_type": "code",
      "source": [
        "#Treino com distância de chebyshev\n",
        "classifier = KNeighborsClassifier(n_neighbors = 35, metric = 'chebyshev')\n",
        "classifier.fit(X_train, y_train)"
      ],
      "metadata": {
        "colab": {
          "base_uri": "https://localhost:8080/"
        },
        "id": "SG712lREUTxt",
        "outputId": "c2c62874-2beb-48fb-cb69-9881502e8ccc"
      },
      "execution_count": null,
      "outputs": [
        {
          "output_type": "execute_result",
          "data": {
            "text/plain": [
              "KNeighborsClassifier(metric='chebyshev', n_neighbors=151)"
            ]
          },
          "metadata": {},
          "execution_count": 434
        }
      ]
    },
    {
      "cell_type": "code",
      "source": [
        "y_pred = classifier.predict(X_test)"
      ],
      "metadata": {
        "id": "BD7zArOx-xJN"
      },
      "execution_count": null,
      "outputs": []
    },
    {
      "cell_type": "markdown",
      "source": [
        "# Testes"
      ],
      "metadata": {
        "id": "_zkfGBRQxk5O"
      }
    },
    {
      "cell_type": "code",
      "source": [
        "#Matriz de confusão\n",
        "print(metrics.confusion_matrix(y_test, y_pred))"
      ],
      "metadata": {
        "colab": {
          "base_uri": "https://localhost:8080/"
        },
        "id": "TY0Cg4Gd-59b",
        "outputId": "d9398425-9a75-47d3-ed05-edf4395176ce"
      },
      "execution_count": null,
      "outputs": [
        {
          "output_type": "stream",
          "name": "stdout",
          "text": [
            "[[32  2  0  0  0  0]\n",
            " [11 13  8  2  0  0]\n",
            " [ 0 13 21  6  2  0]\n",
            " [ 0  1  6 23  4  8]\n",
            " [ 0  0  4  8 21  8]\n",
            " [ 0  0  1  4 12 30]]\n"
          ]
        }
      ]
    },
    {
      "cell_type": "code",
      "source": [
        "#Métricas\n",
        "print(metrics.classification_report(y_test, y_pred, target_names=['1','2','3','4','5','6']))"
      ],
      "metadata": {
        "colab": {
          "base_uri": "https://localhost:8080/"
        },
        "id": "bOuU1bpKx-Pr",
        "outputId": "f9ee6871-10e7-4184-dc59-6e7a64a373b0"
      },
      "execution_count": null,
      "outputs": [
        {
          "output_type": "stream",
          "name": "stdout",
          "text": [
            "              precision    recall  f1-score   support\n",
            "\n",
            "           1       0.74      0.94      0.83        34\n",
            "           2       0.45      0.38      0.41        34\n",
            "           3       0.53      0.50      0.51        42\n",
            "           4       0.53      0.55      0.54        42\n",
            "           5       0.54      0.51      0.53        41\n",
            "           6       0.65      0.64      0.65        47\n",
            "\n",
            "    accuracy                           0.58       240\n",
            "   macro avg       0.57      0.59      0.58       240\n",
            "weighted avg       0.57      0.58      0.58       240\n",
            "\n"
          ]
        }
      ]
    },
    {
      "cell_type": "code",
      "source": [
        "print(classifier.predict([X_test[17]]))"
      ],
      "metadata": {
        "id": "rDXwbGshNvpb",
        "colab": {
          "base_uri": "https://localhost:8080/"
        },
        "outputId": "b54875a4-964d-495b-fb58-e034f7a1ae28"
      },
      "execution_count": null,
      "outputs": [
        {
          "output_type": "stream",
          "name": "stdout",
          "text": [
            "[1]\n"
          ]
        }
      ]
    }
  ]
}